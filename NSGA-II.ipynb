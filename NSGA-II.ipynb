{
 "cells": [
  {
   "cell_type": "code",
   "execution_count": 2,
   "metadata": {
    "collapsed": true
   },
   "outputs": [],
   "source": [
    "import numpy as np\n",
    "import matplotlib.pyplot as plt\n",
    "import copy\n",
    "import time\n",
    "\n",
    "import random, math\n",
    "from nsga2 import Solution\n",
    "from nsga2 import NSGAII\n",
    "\n",
    "% matplotlib inline"
   ]
  },
  {
   "cell_type": "markdown",
   "metadata": {},
   "source": [
    "Define test function"
   ]
  },
  {
   "cell_type": "code",
   "execution_count": 3,
   "metadata": {
    "collapsed": true
   },
   "outputs": [],
   "source": [
    "class ZDT1Solution(Solution):\n",
    "    '''\n",
    "    Solution for the ZDT1 function.\n",
    "    '''\n",
    "    def __init__(self):\n",
    "        '''\n",
    "        Constructor.\n",
    "        '''\n",
    "        Solution.__init__(self, 2)\n",
    "        \n",
    "        self.xmin = 0.0\n",
    "        self.xmax = 1.0\n",
    "        \n",
    "        for _ in range(30):\n",
    "            self.attributes.append(random.random())\n",
    "        \n",
    "        self.evaluate_solution()\n",
    "        \n",
    "    def evaluate_solution(self):\n",
    "        '''\n",
    "        Implementation of method evaluate_solution() for ZDT1 function.\n",
    "        '''\n",
    "        self.objectives[0] = self.attributes[0]\n",
    "        \n",
    "        sum = 0.0\n",
    "        for i in range(1, 30):\n",
    "            sum += self.attributes[i]\n",
    "            \n",
    "        g = 1.0 + (9.0 * (sum / 29))\n",
    "        \n",
    "        self.objectives[1] = g * (1.0 - math.sqrt(self.attributes[0] / g))\n",
    "        \n",
    "    def crossover(self, other):\n",
    "        '''\n",
    "        Crossover of ZDT1 solutions.\n",
    "        '''\n",
    "        child_solution = ZDT1Solution()\n",
    "        \n",
    "        for i in range(30):\n",
    "            child_solution.attributes[i] = math.sqrt(self.attributes[i] * other.attributes[i])\n",
    "        \n",
    "        return child_solution\n",
    "    \n",
    "    def mutate(self):\n",
    "        '''\n",
    "        Mutation of ZDT1 solution.\n",
    "        '''\n",
    "        self.attributes[random.randint(0, 29)] = random.random()"
   ]
  },
  {
   "cell_type": "code",
   "execution_count": 8,
   "metadata": {},
   "outputs": [
    {
     "name": "stdout",
     "output_type": "stream",
     "text": [
      "Iteration 0 - Elapsed time: 0.0\n",
      "Iteration 1 - Elapsed time: 0.005514621734619141\n",
      "Iteration 2 - Elapsed time: 0.02005290985107422\n",
      "Iteration 3 - Elapsed time: 0.03409099578857422\n",
      "Iteration 4 - Elapsed time: 0.04913067817687988\n",
      "Iteration 5 - Elapsed time: 0.06366944313049316\n",
      "Iteration 6 - Elapsed time: 0.07870888710021973\n",
      "Iteration 7 - Elapsed time: 0.09324765205383301\n",
      "Iteration 8 - Elapsed time: 0.10828757286071777\n",
      "Iteration 9 - Elapsed time: 0.12332773208618164\n",
      "Iteration 10 - Elapsed time: 0.13786697387695312\n",
      "Iteration 11 - Elapsed time: 0.152907133102417\n",
      "Iteration 12 - Elapsed time: 0.16844797134399414\n",
      "Iteration 13 - Elapsed time: 0.1839895248413086\n",
      "Iteration 14 - Elapsed time: 0.19953036308288574\n",
      "Iteration 15 - Elapsed time: 0.2150716781616211\n",
      "Iteration 16 - Elapsed time: 0.23011159896850586\n",
      "Iteration 17 - Elapsed time: 0.24465036392211914\n",
      "Iteration 18 - Elapsed time: 0.260692834854126\n",
      "Iteration 19 - Elapsed time: 0.27523183822631836\n"
     ]
    }
   ],
   "source": [
    "nsga2 = NSGAII(2, 0.1, 1.0)\n",
    "\n",
    "P = []\n",
    "\n",
    "n_population = 50\n",
    "n_iterations = 20\n",
    "\n",
    "for i in range(n_population):\n",
    "    P.append(ZDT1Solution())\n",
    "    \n",
    "Q = nsga2.initialise(P)\n",
    "\n",
    "Ps = []\n",
    "t0 = time.time()\n",
    "for ii in range(n_iterations):\n",
    "    print('Iteration', ii, '- Elapsed time:', time.time() - t0)\n",
    "    P, Q = nsga2.generate(P, Q, n_population, n_iterations)\n",
    "    Ps.append(copy.deepcopy(P))"
   ]
  },
  {
   "cell_type": "markdown",
   "metadata": {},
   "source": [
    "Visualise final generation "
   ]
  },
  {
   "cell_type": "code",
   "execution_count": 9,
   "metadata": {},
   "outputs": [
    {
     "data": {
      "image/png": "[encoded data removed]",
      "text/plain": [
       "<matplotlib.figure.Figure at 0x2905774b7f0>"
      ]
     },
     "metadata": {},
     "output_type": "display_data"
    }
   ],
   "source": [
    "plt.figure(figsize = (8, 6))\n",
    "\n",
    "f1 = np.linspace(0, 1, 1000)\n",
    "f2 = 1.0 - np.sqrt(f1)\n",
    "plt.plot(f1, f2, label = 'Pareto Optimal Curve')\n",
    "\n",
    "plt.plot([p.objectives[0] for p in Ps[-1]], \n",
    "         [p.objectives[1] for p in Ps[-1]],\n",
    "         'x', \n",
    "         markersize = 2,\n",
    "         label = 'Population')\n",
    "\n",
    "plt.ylabel('Objective f2(x)')\n",
    "plt.xlabel('Objective f1(x)')\n",
    "plt.grid(which = 'both')\n",
    "plt.legend()\n",
    "plt.xlim([0, 1])\n",
    "plt.show()"
   ]
  },
  {
   "cell_type": "code",
   "execution_count": null,
   "metadata": {
    "collapsed": true
   },
   "outputs": [],
   "source": []
  }
 ],
 "metadata": {
  "kernelspec": {
   "display_name": "Python 3",
   "language": "python",
   "name": "python3"
  }
 },
 "nbformat": 4,
 "nbformat_minor": 2
}
