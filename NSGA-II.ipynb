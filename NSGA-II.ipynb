{
 "cells": [
  {
   "cell_type": "code",
   "execution_count": 2,
   "metadata": {
    "collapsed": true
   },
   "outputs": [],
   "source": [
    "import numpy as np\n",
    "import matplotlib.pyplot as plt\n",
    "import copy\n",
    "import time\n",
    "\n",
    "import random, math\n",
    "from nsga2 import Solution\n",
    "from nsga2 import NSGAII\n",
    "\n",
    "% matplotlib inline"
   ]
  },
  {
   "cell_type": "markdown",
   "metadata": {},
   "source": [
    "Define test function"
   ]
  },
  {
   "cell_type": "code",
   "execution_count": 3,
   "metadata": {
    "collapsed": true
   },
   "outputs": [],
   "source": [
    "class ZDT1Solution(Solution):\n",
    "    '''\n",
    "    Solution for the ZDT1 function.\n",
    "    '''\n",
    "    def __init__(self):\n",
    "        '''\n",
    "        Constructor.\n",
    "        '''\n",
    "        Solution.__init__(self, 2)\n",
    "        \n",
    "        self.xmin = 0.0\n",
    "        self.xmax = 1.0\n",
    "        \n",
    "        for _ in range(30):\n",
    "            self.attributes.append(random.random())\n",
    "        \n",
    "        self.evaluate_solution()\n",
    "        \n",
    "    def evaluate_solution(self):\n",
    "        '''\n",
    "        Implementation of method evaluate_solution() for ZDT1 function.\n",
    "        '''\n",
    "        self.objectives[0] = self.attributes[0]\n",
    "        \n",
    "        sum = 0.0\n",
    "        for i in range(1, 30):\n",
    "            sum += self.attributes[i]\n",
    "            \n",
    "        g = 1.0 + (9.0 * (sum / 29))\n",
    "        \n",
    "        self.objectives[1] = g * (1.0 - math.sqrt(self.attributes[0] / g))\n",
    "        \n",
    "    def crossover(self, other):\n",
    "        '''\n",
    "        Crossover of ZDT1 solutions.\n",
    "        '''\n",
    "        child_solution = ZDT1Solution()\n",
    "        \n",
    "        for i in range(30):\n",
    "            child_solution.attributes[i] = math.sqrt(self.attributes[i] * other.attributes[i])\n",
    "        \n",
    "        return child_solution\n",
    "    \n",
    "    def mutate(self):\n",
    "        '''\n",
    "        Mutation of ZDT1 solution.\n",
    "        '''\n",
    "        self.attributes[random.randint(0, 29)] = random.random()"
   ]
  },
  {
   "cell_type": "code",
   "execution_count": 16,
   "metadata": {},
   "outputs": [
    {
     "name": "stdout",
     "output_type": "stream",
     "text": [
      "Iteration 0 - Elapsed time: 0.0\n",
      "Iteration 10 - Elapsed time: 0.19251227378845215\n",
      "Iteration 20 - Elapsed time: 0.3995625972747803\n",
      "Iteration 30 - Elapsed time: 0.6031041145324707\n",
      "Iteration 40 - Elapsed time: 0.807647705078125\n",
      "Iteration 50 - Elapsed time: 1.0061757564544678\n",
      "Iteration 60 - Elapsed time: 1.2097172737121582\n",
      "Iteration 70 - Elapsed time: 1.426293134689331\n",
      "Iteration 80 - Elapsed time: 1.6318397521972656\n",
      "Iteration 90 - Elapsed time: 1.8559355735778809\n",
      "Iteration 100 - Elapsed time: 2.064491033554077\n",
      "Iteration 110 - Elapsed time: 2.264522075653076\n",
      "Iteration 120 - Elapsed time: 2.470069169998169\n",
      "Iteration 130 - Elapsed time: 2.6756157875061035\n",
      "Iteration 140 - Elapsed time: 2.881162166595459\n",
      "Iteration 150 - Elapsed time: 3.0982396602630615\n",
      "Iteration 160 - Elapsed time: 3.309802293777466\n",
      "Iteration 170 - Elapsed time: 3.517855405807495\n",
      "Iteration 180 - Elapsed time: 3.716383457183838\n",
      "Iteration 190 - Elapsed time: 3.9244368076324463\n"
     ]
    }
   ],
   "source": [
    "nsga2 = NSGAII(2, 0.9, 0.03)\n",
    "\n",
    "P = []\n",
    "\n",
    "n_population = 50\n",
    "n_iterations = 200\n",
    "\n",
    "for i in range(n_population):\n",
    "    P.append(ZDT1Solution())\n",
    "    \n",
    "Q = nsga2.initialise(P)\n",
    "\n",
    "Ps = []\n",
    "t0 = time.time()\n",
    "for ii in range(n_iterations):\n",
    "    if ii % 10 == 0:\n",
    "        print('Iteration', ii, '- Elapsed time:', time.time() - t0)\n",
    "    P, Q = nsga2.generate(P, Q, n_population, n_iterations)\n",
    "    Ps.append(copy.deepcopy(P))"
   ]
  },
  {
   "cell_type": "markdown",
   "metadata": {},
   "source": [
    "Visualise final generation "
   ]
  },
  {
   "cell_type": "code",
   "execution_count": 17,
   "metadata": {},
   "outputs": [
    {
     "data": {
      "image/png": "[encoded data removed]",
      "text/plain": [
       "<matplotlib.figure.Figure at 0x290584a4da0>"
      ]
     },
     "metadata": {},
     "output_type": "display_data"
    }
   ],
   "source": [
    "plt.figure(figsize = (8, 6))\n",
    "\n",
    "f1 = np.linspace(0, 1, 1000)\n",
    "f2 = 1.0 - np.sqrt(f1)\n",
    "plt.plot(f1, f2, label = 'Pareto Optimal Curve')\n",
    "\n",
    "plt.plot([p.objectives[0] for p in Ps[-1]], \n",
    "         [p.objectives[1] for p in Ps[-1]],\n",
    "         'x', \n",
    "         markersize = 2,\n",
    "         label = 'Population')\n",
    "\n",
    "plt.ylabel('Objective f2(x)')\n",
    "plt.xlabel('Objective f1(x)')\n",
    "plt.grid(which = 'both')\n",
    "plt.legend()\n",
    "plt.xlim([0, 1])\n",
    "plt.show()"
   ]
  },
  {
   "cell_type": "code",
   "execution_count": null,
   "metadata": {
    "collapsed": true
   },
   "outputs": [],
   "source": []
  }
 ],
 "metadata": {
  "kernelspec": {
   "display_name": "Python 3",
   "language": "python",
   "name": "python3"
  }
 },
 "nbformat": 4,
 "nbformat_minor": 2
}
