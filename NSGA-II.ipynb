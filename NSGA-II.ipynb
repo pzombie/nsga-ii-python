{
 "cells": [
  {
   "cell_type": "code",
   "execution_count": 3,
   "metadata": {
    "collapsed": true
   },
   "outputs": [],
   "source": [
    "import numpy as np\n",
    "import matplotlib.pyplot as plt\n",
    "\n",
    "import random, math\n",
    "from nsga2 import Solution\n",
    "from nsga2 import NSGAII\n",
    "\n",
    "% matplotlib inline"
   ]
  },
  {
   "cell_type": "markdown",
   "metadata": {},
   "source": [
    "Define test function"
   ]
  },
  {
   "cell_type": "code",
   "execution_count": 4,
   "metadata": {
    "collapsed": true
   },
   "outputs": [],
   "source": [
    "class ZDT1Solution(Solution):\n",
    "    '''\n",
    "    Solution for the ZDT1 function.\n",
    "    '''\n",
    "    def __init__(self):\n",
    "        '''\n",
    "        Constructor.\n",
    "        '''\n",
    "        Solution.__init__(self, 2)\n",
    "        \n",
    "        self.xmin = 0.0\n",
    "        self.xmax = 1.0\n",
    "        \n",
    "        for _ in range(30):\n",
    "            self.attributes.append(random.random())\n",
    "        \n",
    "        self.evaluate_solution()\n",
    "        \n",
    "    def evaluate_solution(self):\n",
    "        '''\n",
    "        Implementation of method evaluate_solution() for ZDT1 function.\n",
    "        '''\n",
    "        self.objectives[0] = self.attributes[0]\n",
    "        \n",
    "        sum = 0.0\n",
    "        for i in range(1, 30):\n",
    "            sum += self.attributes[i]\n",
    "            \n",
    "        g = 1.0 + (9.0 * (sum / 29))\n",
    "        \n",
    "        self.objectives[1] = g * (1.0 - math.sqrt(self.attributes[0] / g))\n",
    "        \n",
    "    def crossover(self, other):\n",
    "        '''\n",
    "        Crossover of ZDT1 solutions.\n",
    "        '''\n",
    "        child_solution = ZDT1Solution()\n",
    "        \n",
    "        for i in range(30):\n",
    "            child_solution.attributes[i] = math.sqrt(self.attributes[i] * other.attributes[i])\n",
    "        \n",
    "        return child_solution\n",
    "    \n",
    "    def mutate(self):\n",
    "        '''\n",
    "        Mutation of ZDT1 solution.\n",
    "        '''\n",
    "        self.attributes[random.randint(0, 29)] = random.random()"
   ]
  },
  {
   "cell_type": "code",
   "execution_count": 5,
   "metadata": {},
   "outputs": [
    {
     "name": "stdout",
     "output_type": "stream",
     "text": [
      "Iteration  0\n",
      "Iteration  1\n",
      "Iteration  2\n",
      "Iteration  3\n",
      "Iteration  4\n",
      "Iteration  5\n",
      "Iteration  6\n",
      "Iteration  7\n",
      "Iteration  8\n",
      "Iteration  9\n",
      "Iteration  10\n",
      "Iteration  11\n",
      "Iteration  12\n",
      "Iteration  13\n",
      "Iteration  14\n",
      "Iteration  15\n",
      "Iteration  16\n",
      "Iteration  17\n",
      "Iteration  18\n",
      "Iteration  19\n"
     ]
    }
   ],
   "source": [
    "nsga2 = NSGAII(2, 0.1, 1.0)\n",
    "    \n",
    "P = []\n",
    "for i in range(50):\n",
    "    P.append(ZDT1Solution())\n",
    "\n",
    "nsga2.run(P, 50, 20)"
   ]
  },
  {
   "cell_type": "markdown",
   "metadata": {},
   "source": [
    "Visualise final generation "
   ]
  },
  {
   "cell_type": "code",
   "execution_count": 17,
   "metadata": {},
   "outputs": [
    {
     "data": {
      "image/png": "[encoded data removed]",
      "text/plain": [
       "<matplotlib.figure.Figure at 0x152fed41240>"
      ]
     },
     "metadata": {},
     "output_type": "display_data"
    }
   ],
   "source": [
    "plt.figure(figsize = (8, 6))\n",
    "\n",
    "f1 = np.linspace(0, 1, 1000)\n",
    "f2 = 1.0 - np.sqrt(f1)\n",
    "plt.plot(f1, f2, label = 'Pareto Optimal Curve')\n",
    "\n",
    "plt.plot([p.objectives[0] for p in P], \n",
    "         [p.objectives[1] for p in P],\n",
    "         'x', \n",
    "         markersize = 2,\n",
    "         label = 'Population')\n",
    "\n",
    "plt.ylabel('Objective f2(x)')\n",
    "plt.xlabel('Objective f1(x)')\n",
    "plt.grid(which = 'both')\n",
    "plt.legend()\n",
    "plt.xlim([0, 1])\n",
    "plt.show()"
   ]
  },
  {
   "cell_type": "code",
   "execution_count": null,
   "metadata": {
    "collapsed": true
   },
   "outputs": [],
   "source": []
  }
 ],
 "metadata": {
  "kernelspec": {
   "display_name": "Python 3",
   "language": "python",
   "name": "python3"
  },
  "language_info": {
   "codemirror_mode": {
    "name": "ipython",
    "version": 3
   },
   "file_extension": ".py",
   "mimetype": "text/x-python",
   "name": "python",
   "nbconvert_exporter": "python",
   "pygments_lexer": "ipython3",
   "version": "3.6.3"
  }
 },
 "nbformat": 4,
 "nbformat_minor": 2
}
